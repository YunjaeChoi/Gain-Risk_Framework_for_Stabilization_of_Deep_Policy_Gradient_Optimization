{
 "cells": [
  {
   "cell_type": "code",
   "execution_count": null,
   "metadata": {},
   "outputs": [],
   "source": [
    "from utils.test_policy import load_policy\n",
    "import gym\n",
    "#import pybullet_envs\n",
    "from env_functions import *\n",
    "from wrappers import TimeLimitObservation\n",
    "import time\n",
    "import pybullet\n",
    "from pybullet_utils import bullet_client\n",
    "\n",
    "import warnings\n",
    "warnings.filterwarnings(\"ignore\")\n",
    "\n",
    "def run_policy(env, get_action, max_ep_len=None, num_episodes=100, render=True):\n",
    "    assert env is not None, \\\n",
    "        \"Environment not found!\\n\\n It looks like the environment wasn't saved, \" + \\\n",
    "        \"and we can't run the agent in it. :( \\n\\n Check out the readthedocs \" + \\\n",
    "        \"page on Experiment Outputs for how to handle this situation.\"\n",
    "\n",
    "    o, r, d, ep_ret, ep_len, n = env.reset(), 0, False, 0, 0, 0\n",
    "    while n < num_episodes:\n",
    "        if render:\n",
    "            env.render()\n",
    "            time.sleep(1e-2)\n",
    "            #time.sleep(1.0)\n",
    "\n",
    "        a = get_action(o)\n",
    "        o, r, d, _ = env.step(a)\n",
    "        ep_ret += r\n",
    "        ep_len += 1\n",
    "\n",
    "        if d or (ep_len == max_ep_len):\n",
    "            print('Episode %d \\t EpRet %.3f \\t EpLen %d'%(n, ep_ret, ep_len))\n",
    "            o, r, d, ep_ret, ep_len = env.reset(), 0, False, 0, 0\n",
    "            n += 1"
   ]
  },
  {
   "cell_type": "code",
   "execution_count": null,
   "metadata": {},
   "outputs": [],
   "source": [
    "_, get_action = load_policy('trained_models/ant-pg_reg')\n",
    "env = ant_env_fn()\n",
    "env.render(mode=\"human\")\n",
    "\n",
    "run_policy(env, get_action)"
   ]
  },
  {
   "cell_type": "code",
   "execution_count": null,
   "metadata": {},
   "outputs": [],
   "source": []
  }
 ],
 "metadata": {
  "kernelspec": {
   "display_name": "Python 3",
   "language": "python",
   "name": "python3"
  },
  "language_info": {
   "codemirror_mode": {
    "name": "ipython",
    "version": 3
   },
   "file_extension": ".py",
   "mimetype": "text/x-python",
   "name": "python",
   "nbconvert_exporter": "python",
   "pygments_lexer": "ipython3",
   "version": "3.7.7"
  }
 },
 "nbformat": 4,
 "nbformat_minor": 2
}
