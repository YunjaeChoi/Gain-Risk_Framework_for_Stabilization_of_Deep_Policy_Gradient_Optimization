{
 "cells": [
  {
   "cell_type": "code",
   "execution_count": null,
   "metadata": {},
   "outputs": [],
   "source": [
    "from utils.plot_utils import make_plots\n",
    "import seaborn as sns\n",
    "import pandas as pd\n",
    "import matplotlib.pyplot as plt\n",
    "import numpy as np\n",
    "\n",
    "import warnings\n",
    "warnings.filterwarnings(\"ignore\")\n",
    "\n",
    "%matplotlib inline\n",
    "\n",
    "legend = None\n",
    "xaxis = 'TotalEnvInteracts'\n",
    "\n",
    "values = ['Performance', 'StopIter', 'PiLr', 'DiagNormalEntropy', 'DiagNormalKL', 'SampleEntropy']\n",
    "count = False\n",
    "smooth = 1\n",
    "select = None\n",
    "exclude = ''\n",
    "est = 'mean'"
   ]
  },
  {
   "cell_type": "code",
   "execution_count": null,
   "metadata": {},
   "outputs": [],
   "source": [
    "logdir = ['data/sca-']\n",
    "ret_values, ret_data = make_plots(logdir, legend, xaxis, values, count, \n",
    "                             smooth=smooth, select=select, exclude=exclude,\n",
    "                             estimator=est, figsize=(10, 6))"
   ]
  },
  {
   "cell_type": "code",
   "execution_count": null,
   "metadata": {
    "scrolled": true
   },
   "outputs": [],
   "source": [
    "logdir = ['data/half-']\n",
    "ret_values, ret_data = make_plots(logdir, legend, xaxis, values, count, \n",
    "                             smooth=smooth, select=select, exclude=exclude,\n",
    "                             estimator=est, figsize=(10, 6))"
   ]
  },
  {
   "cell_type": "code",
   "execution_count": null,
   "metadata": {
    "scrolled": true
   },
   "outputs": [],
   "source": [
    "logdir = ['data/ant-']\n",
    "_ = make_plots(logdir, legend, xaxis, values, count, \n",
    "                             smooth=smooth, select=select, exclude=exclude,\n",
    "                             estimator=est, figsize=(10, 6))"
   ]
  },
  {
   "cell_type": "code",
   "execution_count": null,
   "metadata": {
    "scrolled": true
   },
   "outputs": [],
   "source": [
    "logdir = ['data/hopper-']\n",
    "ret_values, ret_data = make_plots(logdir, legend, xaxis, values, count, \n",
    "                             smooth=smooth, select=select, exclude=exclude,\n",
    "                             estimator=est, figsize=(10, 6))"
   ]
  },
  {
   "cell_type": "code",
   "execution_count": null,
   "metadata": {
    "scrolled": true
   },
   "outputs": [],
   "source": [
    "logdir = ['data/walker-']\n",
    "ret_values, ret_data = make_plots(logdir, legend, xaxis, values, count, \n",
    "                             smooth=smooth, select=select, exclude=exclude,\n",
    "                             estimator=est, figsize=(10, 6))"
   ]
  },
  {
   "cell_type": "code",
   "execution_count": null,
   "metadata": {
    "scrolled": true
   },
   "outputs": [],
   "source": [
    "logdir = ['data/ipsu-']\n",
    "ret_values, ret_data = make_plots(logdir, legend, xaxis, values, count, \n",
    "                             smooth=smooth, select=select, exclude=exclude,\n",
    "                             estimator=est, figsize=(10, 6))"
   ]
  },
  {
   "cell_type": "code",
   "execution_count": null,
   "metadata": {},
   "outputs": [],
   "source": [
    "logdir = ['data/idp-']\n",
    "ret_values, ret_data = make_plots(logdir, legend, xaxis, values, count, \n",
    "                             smooth=smooth, select=select, exclude=exclude,\n",
    "                             estimator=est, figsize=(10, 6))"
   ]
  },
  {
   "cell_type": "code",
   "execution_count": null,
   "metadata": {},
   "outputs": [],
   "source": []
  }
 ],
 "metadata": {
  "kernelspec": {
   "display_name": "Python 3",
   "language": "python",
   "name": "python3"
  },
  "language_info": {
   "codemirror_mode": {
    "name": "ipython",
    "version": 3
   },
   "file_extension": ".py",
   "mimetype": "text/x-python",
   "name": "python",
   "nbconvert_exporter": "python",
   "pygments_lexer": "ipython3",
   "version": "3.7.7"
  }
 },
 "nbformat": 4,
 "nbformat_minor": 2
}
